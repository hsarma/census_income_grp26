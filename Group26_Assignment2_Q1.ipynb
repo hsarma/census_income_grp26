{
  "nbformat": 4,
  "nbformat_minor": 0,
  "metadata": {
    "colab": {
      "name": "Group26_Assignment2_Q1.ipynb",
      "provenance": [],
      "collapsed_sections": [
        "gQcdSrHps4fB",
        "lMg2U5JauGB7",
        "1imP1Qhhlahq",
        "BsOIucJnma5i",
        "NKl3G0XHUnFp",
        "c-eKJey-ymlV",
        "1-7Z2ESZUDu9",
        "L7yMlabUpBf5"
      ],
      "authorship_tag": "ABX9TyP1bQhCzsBNtp+JL+lmRV11",
      "include_colab_link": true
    },
    "kernelspec": {
      "name": "python3",
      "display_name": "Python 3"
    },
    "language_info": {
      "name": "python"
    },
    "widgets": {
      "application/vnd.jupyter.widget-state+json": {
        "e0c8c0cb698f4dd597ee633bbe686978": {
          "model_module": "@jupyter-widgets/controls",
          "model_name": "HBoxModel",
          "state": {
            "_view_name": "HBoxView",
            "_dom_classes": [],
            "_model_name": "HBoxModel",
            "_view_module": "@jupyter-widgets/controls",
            "_model_module_version": "1.5.0",
            "_view_count": null,
            "_view_module_version": "1.5.0",
            "box_style": "",
            "layout": "IPY_MODEL_8fa633976513486cac65c70d7717019b",
            "_model_module": "@jupyter-widgets/controls",
            "children": [
              "IPY_MODEL_d02b6450eb1f4977b762ad3d241af03d",
              "IPY_MODEL_5997ebeccef84178828ea5757302a88c"
            ]
          }
        },
        "8fa633976513486cac65c70d7717019b": {
          "model_module": "@jupyter-widgets/base",
          "model_name": "LayoutModel",
          "state": {
            "_view_name": "LayoutView",
            "grid_template_rows": null,
            "right": null,
            "justify_content": null,
            "_view_module": "@jupyter-widgets/base",
            "overflow": null,
            "_model_module_version": "1.2.0",
            "_view_count": null,
            "flex_flow": null,
            "width": null,
            "min_width": null,
            "border": null,
            "align_items": null,
            "bottom": null,
            "_model_module": "@jupyter-widgets/base",
            "top": null,
            "grid_column": null,
            "overflow_y": null,
            "overflow_x": null,
            "grid_auto_flow": null,
            "grid_area": null,
            "grid_template_columns": null,
            "flex": null,
            "_model_name": "LayoutModel",
            "justify_items": null,
            "grid_row": null,
            "max_height": null,
            "align_content": null,
            "visibility": null,
            "align_self": null,
            "height": null,
            "min_height": null,
            "padding": null,
            "grid_auto_rows": null,
            "grid_gap": null,
            "max_width": null,
            "order": null,
            "_view_module_version": "1.2.0",
            "grid_template_areas": null,
            "object_position": null,
            "object_fit": null,
            "grid_auto_columns": null,
            "margin": null,
            "display": null,
            "left": null
          }
        },
        "d02b6450eb1f4977b762ad3d241af03d": {
          "model_module": "@jupyter-widgets/controls",
          "model_name": "FloatProgressModel",
          "state": {
            "_view_name": "ProgressView",
            "style": "IPY_MODEL_4d178363fa36473b9192ce1dd07bb37f",
            "_dom_classes": [],
            "description": "100%",
            "_model_name": "FloatProgressModel",
            "bar_style": "success",
            "max": 5000,
            "_view_module": "@jupyter-widgets/controls",
            "_model_module_version": "1.5.0",
            "value": 5000,
            "_view_count": null,
            "_view_module_version": "1.5.0",
            "orientation": "horizontal",
            "min": 0,
            "description_tooltip": null,
            "_model_module": "@jupyter-widgets/controls",
            "layout": "IPY_MODEL_360fecf12971452d86884c4f42261a3f"
          }
        },
        "5997ebeccef84178828ea5757302a88c": {
          "model_module": "@jupyter-widgets/controls",
          "model_name": "HTMLModel",
          "state": {
            "_view_name": "HTMLView",
            "style": "IPY_MODEL_d514be9a58c34acb8b4766600b47a929",
            "_dom_classes": [],
            "description": "",
            "_model_name": "HTMLModel",
            "placeholder": "​",
            "_view_module": "@jupyter-widgets/controls",
            "_model_module_version": "1.5.0",
            "value": " 5000/5000 [04:08&lt;00:00, 20.10epoch/s]",
            "_view_count": null,
            "_view_module_version": "1.5.0",
            "description_tooltip": null,
            "_model_module": "@jupyter-widgets/controls",
            "layout": "IPY_MODEL_b2a7f70743bd41c28035ea6cafc84eca"
          }
        },
        "4d178363fa36473b9192ce1dd07bb37f": {
          "model_module": "@jupyter-widgets/controls",
          "model_name": "ProgressStyleModel",
          "state": {
            "_view_name": "StyleView",
            "_model_name": "ProgressStyleModel",
            "description_width": "initial",
            "_view_module": "@jupyter-widgets/base",
            "_model_module_version": "1.5.0",
            "_view_count": null,
            "_view_module_version": "1.2.0",
            "bar_color": null,
            "_model_module": "@jupyter-widgets/controls"
          }
        },
        "360fecf12971452d86884c4f42261a3f": {
          "model_module": "@jupyter-widgets/base",
          "model_name": "LayoutModel",
          "state": {
            "_view_name": "LayoutView",
            "grid_template_rows": null,
            "right": null,
            "justify_content": null,
            "_view_module": "@jupyter-widgets/base",
            "overflow": null,
            "_model_module_version": "1.2.0",
            "_view_count": null,
            "flex_flow": null,
            "width": null,
            "min_width": null,
            "border": null,
            "align_items": null,
            "bottom": null,
            "_model_module": "@jupyter-widgets/base",
            "top": null,
            "grid_column": null,
            "overflow_y": null,
            "overflow_x": null,
            "grid_auto_flow": null,
            "grid_area": null,
            "grid_template_columns": null,
            "flex": null,
            "_model_name": "LayoutModel",
            "justify_items": null,
            "grid_row": null,
            "max_height": null,
            "align_content": null,
            "visibility": null,
            "align_self": null,
            "height": null,
            "min_height": null,
            "padding": null,
            "grid_auto_rows": null,
            "grid_gap": null,
            "max_width": null,
            "order": null,
            "_view_module_version": "1.2.0",
            "grid_template_areas": null,
            "object_position": null,
            "object_fit": null,
            "grid_auto_columns": null,
            "margin": null,
            "display": null,
            "left": null
          }
        },
        "d514be9a58c34acb8b4766600b47a929": {
          "model_module": "@jupyter-widgets/controls",
          "model_name": "DescriptionStyleModel",
          "state": {
            "_view_name": "StyleView",
            "_model_name": "DescriptionStyleModel",
            "description_width": "",
            "_view_module": "@jupyter-widgets/base",
            "_model_module_version": "1.5.0",
            "_view_count": null,
            "_view_module_version": "1.2.0",
            "_model_module": "@jupyter-widgets/controls"
          }
        },
        "b2a7f70743bd41c28035ea6cafc84eca": {
          "model_module": "@jupyter-widgets/base",
          "model_name": "LayoutModel",
          "state": {
            "_view_name": "LayoutView",
            "grid_template_rows": null,
            "right": null,
            "justify_content": null,
            "_view_module": "@jupyter-widgets/base",
            "overflow": null,
            "_model_module_version": "1.2.0",
            "_view_count": null,
            "flex_flow": null,
            "width": null,
            "min_width": null,
            "border": null,
            "align_items": null,
            "bottom": null,
            "_model_module": "@jupyter-widgets/base",
            "top": null,
            "grid_column": null,
            "overflow_y": null,
            "overflow_x": null,
            "grid_auto_flow": null,
            "grid_area": null,
            "grid_template_columns": null,
            "flex": null,
            "_model_name": "LayoutModel",
            "justify_items": null,
            "grid_row": null,
            "max_height": null,
            "align_content": null,
            "visibility": null,
            "align_self": null,
            "height": null,
            "min_height": null,
            "padding": null,
            "grid_auto_rows": null,
            "grid_gap": null,
            "max_width": null,
            "order": null,
            "_view_module_version": "1.2.0",
            "grid_template_areas": null,
            "object_position": null,
            "object_fit": null,
            "grid_auto_columns": null,
            "margin": null,
            "display": null,
            "left": null
          }
        },
        "143aa3fada7b40199b1f433f7e34ef15": {
          "model_module": "@jupyter-widgets/controls",
          "model_name": "HBoxModel",
          "state": {
            "_view_name": "HBoxView",
            "_dom_classes": [],
            "_model_name": "HBoxModel",
            "_view_module": "@jupyter-widgets/controls",
            "_model_module_version": "1.5.0",
            "_view_count": null,
            "_view_module_version": "1.5.0",
            "box_style": "",
            "layout": "IPY_MODEL_ade5e712ee9848a7af3f42e2128a828b",
            "_model_module": "@jupyter-widgets/controls",
            "children": [
              "IPY_MODEL_94d8812a56194a07a46e043bf9fe0273",
              "IPY_MODEL_565e642bc7544eabaa7e5ec6107d3bea"
            ]
          }
        },
        "ade5e712ee9848a7af3f42e2128a828b": {
          "model_module": "@jupyter-widgets/base",
          "model_name": "LayoutModel",
          "state": {
            "_view_name": "LayoutView",
            "grid_template_rows": null,
            "right": null,
            "justify_content": null,
            "_view_module": "@jupyter-widgets/base",
            "overflow": null,
            "_model_module_version": "1.2.0",
            "_view_count": null,
            "flex_flow": null,
            "width": null,
            "min_width": null,
            "border": null,
            "align_items": null,
            "bottom": null,
            "_model_module": "@jupyter-widgets/base",
            "top": null,
            "grid_column": null,
            "overflow_y": null,
            "overflow_x": null,
            "grid_auto_flow": null,
            "grid_area": null,
            "grid_template_columns": null,
            "flex": null,
            "_model_name": "LayoutModel",
            "justify_items": null,
            "grid_row": null,
            "max_height": null,
            "align_content": null,
            "visibility": null,
            "align_self": null,
            "height": null,
            "min_height": null,
            "padding": null,
            "grid_auto_rows": null,
            "grid_gap": null,
            "max_width": null,
            "order": null,
            "_view_module_version": "1.2.0",
            "grid_template_areas": null,
            "object_position": null,
            "object_fit": null,
            "grid_auto_columns": null,
            "margin": null,
            "display": null,
            "left": null
          }
        },
        "94d8812a56194a07a46e043bf9fe0273": {
          "model_module": "@jupyter-widgets/controls",
          "model_name": "FloatProgressModel",
          "state": {
            "_view_name": "ProgressView",
            "style": "IPY_MODEL_f8619ee1517747a2ababf5bdafcb9b3d",
            "_dom_classes": [],
            "description": "100%",
            "_model_name": "FloatProgressModel",
            "bar_style": "success",
            "max": 5000,
            "_view_module": "@jupyter-widgets/controls",
            "_model_module_version": "1.5.0",
            "value": 5000,
            "_view_count": null,
            "_view_module_version": "1.5.0",
            "orientation": "horizontal",
            "min": 0,
            "description_tooltip": null,
            "_model_module": "@jupyter-widgets/controls",
            "layout": "IPY_MODEL_1c906125964c4b04ab0b5642ed61383d"
          }
        },
        "565e642bc7544eabaa7e5ec6107d3bea": {
          "model_module": "@jupyter-widgets/controls",
          "model_name": "HTMLModel",
          "state": {
            "_view_name": "HTMLView",
            "style": "IPY_MODEL_689b0989230c4b28b8372e5e5a1e5395",
            "_dom_classes": [],
            "description": "",
            "_model_name": "HTMLModel",
            "placeholder": "​",
            "_view_module": "@jupyter-widgets/controls",
            "_model_module_version": "1.5.0",
            "value": " 5000/5000 [02:42&lt;00:00, 30.82epoch/s]",
            "_view_count": null,
            "_view_module_version": "1.5.0",
            "description_tooltip": null,
            "_model_module": "@jupyter-widgets/controls",
            "layout": "IPY_MODEL_bbbadd9c27184862a2f0320082431fbd"
          }
        },
        "f8619ee1517747a2ababf5bdafcb9b3d": {
          "model_module": "@jupyter-widgets/controls",
          "model_name": "ProgressStyleModel",
          "state": {
            "_view_name": "StyleView",
            "_model_name": "ProgressStyleModel",
            "description_width": "initial",
            "_view_module": "@jupyter-widgets/base",
            "_model_module_version": "1.5.0",
            "_view_count": null,
            "_view_module_version": "1.2.0",
            "bar_color": null,
            "_model_module": "@jupyter-widgets/controls"
          }
        },
        "1c906125964c4b04ab0b5642ed61383d": {
          "model_module": "@jupyter-widgets/base",
          "model_name": "LayoutModel",
          "state": {
            "_view_name": "LayoutView",
            "grid_template_rows": null,
            "right": null,
            "justify_content": null,
            "_view_module": "@jupyter-widgets/base",
            "overflow": null,
            "_model_module_version": "1.2.0",
            "_view_count": null,
            "flex_flow": null,
            "width": null,
            "min_width": null,
            "border": null,
            "align_items": null,
            "bottom": null,
            "_model_module": "@jupyter-widgets/base",
            "top": null,
            "grid_column": null,
            "overflow_y": null,
            "overflow_x": null,
            "grid_auto_flow": null,
            "grid_area": null,
            "grid_template_columns": null,
            "flex": null,
            "_model_name": "LayoutModel",
            "justify_items": null,
            "grid_row": null,
            "max_height": null,
            "align_content": null,
            "visibility": null,
            "align_self": null,
            "height": null,
            "min_height": null,
            "padding": null,
            "grid_auto_rows": null,
            "grid_gap": null,
            "max_width": null,
            "order": null,
            "_view_module_version": "1.2.0",
            "grid_template_areas": null,
            "object_position": null,
            "object_fit": null,
            "grid_auto_columns": null,
            "margin": null,
            "display": null,
            "left": null
          }
        },
        "689b0989230c4b28b8372e5e5a1e5395": {
          "model_module": "@jupyter-widgets/controls",
          "model_name": "DescriptionStyleModel",
          "state": {
            "_view_name": "StyleView",
            "_model_name": "DescriptionStyleModel",
            "description_width": "",
            "_view_module": "@jupyter-widgets/base",
            "_model_module_version": "1.5.0",
            "_view_count": null,
            "_view_module_version": "1.2.0",
            "_model_module": "@jupyter-widgets/controls"
          }
        },
        "bbbadd9c27184862a2f0320082431fbd": {
          "model_module": "@jupyter-widgets/base",
          "model_name": "LayoutModel",
          "state": {
            "_view_name": "LayoutView",
            "grid_template_rows": null,
            "right": null,
            "justify_content": null,
            "_view_module": "@jupyter-widgets/base",
            "overflow": null,
            "_model_module_version": "1.2.0",
            "_view_count": null,
            "flex_flow": null,
            "width": null,
            "min_width": null,
            "border": null,
            "align_items": null,
            "bottom": null,
            "_model_module": "@jupyter-widgets/base",
            "top": null,
            "grid_column": null,
            "overflow_y": null,
            "overflow_x": null,
            "grid_auto_flow": null,
            "grid_area": null,
            "grid_template_columns": null,
            "flex": null,
            "_model_name": "LayoutModel",
            "justify_items": null,
            "grid_row": null,
            "max_height": null,
            "align_content": null,
            "visibility": null,
            "align_self": null,
            "height": null,
            "min_height": null,
            "padding": null,
            "grid_auto_rows": null,
            "grid_gap": null,
            "max_width": null,
            "order": null,
            "_view_module_version": "1.2.0",
            "grid_template_areas": null,
            "object_position": null,
            "object_fit": null,
            "grid_auto_columns": null,
            "margin": null,
            "display": null,
            "left": null
          }
        },
        "6c299906d05e480a93d796c3596d628a": {
          "model_module": "@jupyter-widgets/controls",
          "model_name": "HBoxModel",
          "state": {
            "_view_name": "HBoxView",
            "_dom_classes": [],
            "_model_name": "HBoxModel",
            "_view_module": "@jupyter-widgets/controls",
            "_model_module_version": "1.5.0",
            "_view_count": null,
            "_view_module_version": "1.5.0",
            "box_style": "",
            "layout": "IPY_MODEL_d7873abe274942949777d213bab198a1",
            "_model_module": "@jupyter-widgets/controls",
            "children": [
              "IPY_MODEL_49e74f6b828a47e89c0ea5444304b110",
              "IPY_MODEL_c77028dc670a4882a047e5860cb87e90"
            ]
          }
        },
        "d7873abe274942949777d213bab198a1": {
          "model_module": "@jupyter-widgets/base",
          "model_name": "LayoutModel",
          "state": {
            "_view_name": "LayoutView",
            "grid_template_rows": null,
            "right": null,
            "justify_content": null,
            "_view_module": "@jupyter-widgets/base",
            "overflow": null,
            "_model_module_version": "1.2.0",
            "_view_count": null,
            "flex_flow": null,
            "width": null,
            "min_width": null,
            "border": null,
            "align_items": null,
            "bottom": null,
            "_model_module": "@jupyter-widgets/base",
            "top": null,
            "grid_column": null,
            "overflow_y": null,
            "overflow_x": null,
            "grid_auto_flow": null,
            "grid_area": null,
            "grid_template_columns": null,
            "flex": null,
            "_model_name": "LayoutModel",
            "justify_items": null,
            "grid_row": null,
            "max_height": null,
            "align_content": null,
            "visibility": null,
            "align_self": null,
            "height": null,
            "min_height": null,
            "padding": null,
            "grid_auto_rows": null,
            "grid_gap": null,
            "max_width": null,
            "order": null,
            "_view_module_version": "1.2.0",
            "grid_template_areas": null,
            "object_position": null,
            "object_fit": null,
            "grid_auto_columns": null,
            "margin": null,
            "display": null,
            "left": null
          }
        },
        "49e74f6b828a47e89c0ea5444304b110": {
          "model_module": "@jupyter-widgets/controls",
          "model_name": "FloatProgressModel",
          "state": {
            "_view_name": "ProgressView",
            "style": "IPY_MODEL_b9eb4d21329b4500b2addfca2a7c15aa",
            "_dom_classes": [],
            "description": "100%",
            "_model_name": "FloatProgressModel",
            "bar_style": "success",
            "max": 5000,
            "_view_module": "@jupyter-widgets/controls",
            "_model_module_version": "1.5.0",
            "value": 5000,
            "_view_count": null,
            "_view_module_version": "1.5.0",
            "orientation": "horizontal",
            "min": 0,
            "description_tooltip": null,
            "_model_module": "@jupyter-widgets/controls",
            "layout": "IPY_MODEL_efbc428bb6de4f68945e6209dcc1ee32"
          }
        },
        "c77028dc670a4882a047e5860cb87e90": {
          "model_module": "@jupyter-widgets/controls",
          "model_name": "HTMLModel",
          "state": {
            "_view_name": "HTMLView",
            "style": "IPY_MODEL_fde942b8e353415098051a0d99b9d88f",
            "_dom_classes": [],
            "description": "",
            "_model_name": "HTMLModel",
            "placeholder": "​",
            "_view_module": "@jupyter-widgets/controls",
            "_model_module_version": "1.5.0",
            "value": " 5000/5000 [01:12&lt;00:00, 68.75epoch/s]",
            "_view_count": null,
            "_view_module_version": "1.5.0",
            "description_tooltip": null,
            "_model_module": "@jupyter-widgets/controls",
            "layout": "IPY_MODEL_68f9d750273740ae9b007e287ede55bc"
          }
        },
        "b9eb4d21329b4500b2addfca2a7c15aa": {
          "model_module": "@jupyter-widgets/controls",
          "model_name": "ProgressStyleModel",
          "state": {
            "_view_name": "StyleView",
            "_model_name": "ProgressStyleModel",
            "description_width": "initial",
            "_view_module": "@jupyter-widgets/base",
            "_model_module_version": "1.5.0",
            "_view_count": null,
            "_view_module_version": "1.2.0",
            "bar_color": null,
            "_model_module": "@jupyter-widgets/controls"
          }
        },
        "efbc428bb6de4f68945e6209dcc1ee32": {
          "model_module": "@jupyter-widgets/base",
          "model_name": "LayoutModel",
          "state": {
            "_view_name": "LayoutView",
            "grid_template_rows": null,
            "right": null,
            "justify_content": null,
            "_view_module": "@jupyter-widgets/base",
            "overflow": null,
            "_model_module_version": "1.2.0",
            "_view_count": null,
            "flex_flow": null,
            "width": null,
            "min_width": null,
            "border": null,
            "align_items": null,
            "bottom": null,
            "_model_module": "@jupyter-widgets/base",
            "top": null,
            "grid_column": null,
            "overflow_y": null,
            "overflow_x": null,
            "grid_auto_flow": null,
            "grid_area": null,
            "grid_template_columns": null,
            "flex": null,
            "_model_name": "LayoutModel",
            "justify_items": null,
            "grid_row": null,
            "max_height": null,
            "align_content": null,
            "visibility": null,
            "align_self": null,
            "height": null,
            "min_height": null,
            "padding": null,
            "grid_auto_rows": null,
            "grid_gap": null,
            "max_width": null,
            "order": null,
            "_view_module_version": "1.2.0",
            "grid_template_areas": null,
            "object_position": null,
            "object_fit": null,
            "grid_auto_columns": null,
            "margin": null,
            "display": null,
            "left": null
          }
        },
        "fde942b8e353415098051a0d99b9d88f": {
          "model_module": "@jupyter-widgets/controls",
          "model_name": "DescriptionStyleModel",
          "state": {
            "_view_name": "StyleView",
            "_model_name": "DescriptionStyleModel",
            "description_width": "",
            "_view_module": "@jupyter-widgets/base",
            "_model_module_version": "1.5.0",
            "_view_count": null,
            "_view_module_version": "1.2.0",
            "_model_module": "@jupyter-widgets/controls"
          }
        },
        "68f9d750273740ae9b007e287ede55bc": {
          "model_module": "@jupyter-widgets/base",
          "model_name": "LayoutModel",
          "state": {
            "_view_name": "LayoutView",
            "grid_template_rows": null,
            "right": null,
            "justify_content": null,
            "_view_module": "@jupyter-widgets/base",
            "overflow": null,
            "_model_module_version": "1.2.0",
            "_view_count": null,
            "flex_flow": null,
            "width": null,
            "min_width": null,
            "border": null,
            "align_items": null,
            "bottom": null,
            "_model_module": "@jupyter-widgets/base",
            "top": null,
            "grid_column": null,
            "overflow_y": null,
            "overflow_x": null,
            "grid_auto_flow": null,
            "grid_area": null,
            "grid_template_columns": null,
            "flex": null,
            "_model_name": "LayoutModel",
            "justify_items": null,
            "grid_row": null,
            "max_height": null,
            "align_content": null,
            "visibility": null,
            "align_self": null,
            "height": null,
            "min_height": null,
            "padding": null,
            "grid_auto_rows": null,
            "grid_gap": null,
            "max_width": null,
            "order": null,
            "_view_module_version": "1.2.0",
            "grid_template_areas": null,
            "object_position": null,
            "object_fit": null,
            "grid_auto_columns": null,
            "margin": null,
            "display": null,
            "left": null
          }
        }
      }
    }
  },
  "cells": [
    {
      "cell_type": "markdown",
      "metadata": {
        "id": "view-in-github",
        "colab_type": "text"
      },
      "source": [
        "<a href=\"https://colab.research.google.com/github/hsarma/census_income_grp26/blob/main/Group26_Assignment2_Q1.ipynb\" target=\"_parent\"><img src=\"https://colab.research.google.com/assets/colab-badge.svg\" alt=\"Open In Colab\"/></a>"
      ]
    },
    {
      "cell_type": "markdown",
      "metadata": {
        "id": "zoBU6SnktPl7"
      },
      "source": [
        "#Question-1 - Write Python code to build a neural network.\n",
        "\n",
        "Implement NN from scratch."
      ]
    },
    {
      "cell_type": "markdown",
      "metadata": {
        "id": "gQcdSrHps4fB"
      },
      "source": [
        "# 1. Required installations and imports"
      ]
    },
    {
      "cell_type": "code",
      "metadata": {
        "id": "vi11ojD8s3Lg"
      },
      "source": [
        "import os\n",
        "import time\n",
        "import math\n",
        "import numpy as np \n",
        "import pandas as pd \n",
        "import matplotlib.pyplot as plt\n",
        "import seaborn as sns\n",
        "import warnings\n",
        "from six.moves import urllib\n",
        "from sklearn.metrics import  log_loss\n",
        "from sklearn.model_selection import train_test_split\n",
        "from sklearn.preprocessing import StandardScaler\n",
        "from sklearn.preprocessing import OneHotEncoder\n",
        "from tqdm import tqdm_notebook\n",
        "\n",
        "\n",
        "%matplotlib inline\n",
        "colors = ['red','green','blue','cyan','orange','purple','yellow','black','magenta']\n",
        "\n",
        "\n",
        "import warnings\n",
        "warnings.filterwarnings('ignore')"
      ],
      "execution_count": 207,
      "outputs": []
    },
    {
      "cell_type": "markdown",
      "metadata": {
        "id": "lMg2U5JauGB7"
      },
      "source": [
        "#2. Download the dataset"
      ]
    },
    {
      "cell_type": "code",
      "metadata": {
        "colab": {
          "base_uri": "https://localhost:8080/"
        },
        "id": "QeMho1DkuItw",
        "outputId": "cdfd39b6-5221-4720-c6d5-224ec92e7b59"
      },
      "source": [
        "DATA_DIR = 'data'\n",
        "DATA_FILE = 'iris.data'\n",
        "# Copied adult.csv from kaggle to my github repository for easy download\n",
        "DATA_DOWNLOAD_URL='https://archive.ics.uci.edu/ml/machine-learning-databases/iris/iris.data'\n",
        "\n",
        "cwdpath = os.getcwd()\n",
        "abspath = os.path.join(cwdpath, DATA_DIR)\n",
        "datafile = os.path.join(abspath, DATA_FILE)\n",
        "\n",
        "#We do not have the data, create data folder and download the csv\n",
        "if not os.path.exists(datafile):\n",
        "  os.makedirs( abspath, exist_ok=True)\n",
        "  urllib.request.urlretrieve(DATA_DOWNLOAD_URL, datafile)\n",
        "  print('%s downloaded and saved under %s' % (DATA_FILE,abspath))\n",
        "\n",
        "file_stats = os.stat(datafile)\n",
        "print('Datafile: %s , size %.2f kb' % ( datafile, (file_stats.st_size / (1024 ))))\n",
        "\n",
        "data = pd.read_csv(datafile,header=None)\n",
        "data.shape"
      ],
      "execution_count": 208,
      "outputs": [
        {
          "output_type": "stream",
          "text": [
            "Datafile: /content/data/iris.data , size 4.44 kb\n"
          ],
          "name": "stdout"
        },
        {
          "output_type": "execute_result",
          "data": {
            "text/plain": [
              "(150, 5)"
            ]
          },
          "metadata": {
            "tags": []
          },
          "execution_count": 208
        }
      ]
    },
    {
      "cell_type": "markdown",
      "metadata": {
        "id": "1imP1Qhhlahq"
      },
      "source": [
        "#3. Normalize the data"
      ]
    },
    {
      "cell_type": "code",
      "metadata": {
        "id": "CfynQLlHljI8"
      },
      "source": [
        "'''df_norm = data[[0,1,2,3]].apply(lambda x: (x - x.min()) / (x.max() - x.min()))\n",
        "target = data[[4]].replace(['Iris-setosa','Iris-versicolor','Iris-virginica'],[0,1,2])\n",
        "\n",
        "#the nomalized data\n",
        "df = pd.concat([df_norm, target], axis=1)\n",
        "df.head()'''\n",
        "\n",
        "X=data.drop(4,axis=1)\n",
        "y=data[4]\n",
        "\n",
        "scaler = StandardScaler()\n",
        "X = pd.DataFrame(scaler.fit_transform(X), columns = X.columns)\n"
      ],
      "execution_count": 209,
      "outputs": []
    },
    {
      "cell_type": "markdown",
      "metadata": {
        "id": "BsOIucJnma5i"
      },
      "source": [
        "#4. Split normalized data into training and test sets, and OH encode the target class since it is multiclass type"
      ]
    },
    {
      "cell_type": "code",
      "metadata": {
        "id": "nwRMRNC7mf-r"
      },
      "source": [
        "#As per the assignment, much of the task is at training, hence reducing the test split size\n",
        "X_train, X_test, y_train, y_test = train_test_split(X, y, test_size = 0.05, stratify=y, random_state = 0)\n",
        "X_train = X_train.to_numpy()\n",
        "X_test = X_test.to_numpy()\n",
        "y_train = y_train.to_numpy()\n",
        "y_test = y_test.to_numpy()\n",
        "enc = OneHotEncoder()\n",
        "y_OH_train = enc.fit_transform(np.expand_dims(y_train,1)).toarray()\n",
        "y_OH_test = enc.fit_transform(np.expand_dims(y_test,1)).toarray()\n"
      ],
      "execution_count": 210,
      "outputs": []
    },
    {
      "cell_type": "markdown",
      "metadata": {
        "id": "NKl3G0XHUnFp"
      },
      "source": [
        "#5. Define activation functions as reusable classes"
      ]
    },
    {
      "cell_type": "code",
      "metadata": {
        "id": "x7eQ5h_6UlDj"
      },
      "source": [
        "#The base class\n",
        "class Activation:\n",
        "    def __init__(self):\n",
        "        raise NotImplementedError\n",
        "\n",
        "    def activation(self, x):\n",
        "        raise NotImplementedError\n",
        "\n",
        "    def derivative(self, x):\n",
        "        raise NotImplementedError\n",
        "\n",
        "\n",
        "class Logistic(Activation):\n",
        "    def __init__(self):\n",
        "        pass\n",
        "\n",
        "    def activation(self, x):\n",
        "        return 1.0/(1.0 + np.exp(-x))\n",
        "\n",
        "    def derivative(self, x):\n",
        "        s = self.activation(x)\n",
        "        return s * (1 - s)\n",
        "\n",
        "class Relu(Activation):\n",
        "    def __init__(self):\n",
        "        pass\n",
        "\n",
        "    def activation(self, x):\n",
        "      return np.maximum(0,x)\n",
        "\n",
        "    def derivative(self, x):\n",
        "        computation = self.activation(x)\n",
        "        derivatives = np.zeros(computation.shape)\n",
        "        derivatives[computation > 0] = 1\n",
        "        return derivatives\n",
        "\n",
        "class Tanh(Activation):\n",
        "    def __init__(self):\n",
        "        pass\n",
        "\n",
        "    def activation(self, x):\n",
        "        return np.tanh(x)\n",
        "\n",
        "    def derivative(self, x):\n",
        "      return (1-np.square(x))"
      ],
      "execution_count": 211,
      "outputs": []
    },
    {
      "cell_type": "markdown",
      "metadata": {
        "id": "c-eKJey-ymlV"
      },
      "source": [
        "#6. The NeuralNet implementation as a reusable class"
      ]
    },
    {
      "cell_type": "code",
      "metadata": {
        "id": "LWTlTk3DylwN"
      },
      "source": [
        "class G26NeuralNet:  \n",
        "  def __init__(self, activation_obj, n_inputs, n_outputs, hidden_sizes=[10]):\n",
        "    self.nx = n_inputs\n",
        "    self.ny = n_outputs\n",
        "    self.activation_obj = activation_obj\n",
        "    self.nh = len(hidden_sizes)\n",
        "    self.sizes = [self.nx] + hidden_sizes + [self.ny] \n",
        "    self.loss = {}\n",
        "    self.accuracy = {}\n",
        "    self.W = {}\n",
        "    self.B = {}\n",
        "    for i in range(self.nh+1):\n",
        "      self.W[i+1] = np.random.randn(self.sizes[i], self.sizes[i+1])\n",
        "      self.B[i+1] = np.zeros((1, self.sizes[i+1]))\n",
        "      \n",
        "  #Internal softmax for multiclass output\n",
        "  def softmax(self, x):\n",
        "    exps = np.exp(x)\n",
        "    return exps / np.sum(exps)\n",
        "\n",
        "  #Forward propogation\n",
        "  def forward_pass(self, x):\n",
        "    self.A = {}\n",
        "    self.H = {}\n",
        "    self.H[0] = x.reshape(1, -1)\n",
        "    for i in range(self.nh):\n",
        "      self.A[i+1] = np.matmul(self.H[i], self.W[i+1]) + self.B[i+1]\n",
        "      self.H[i+1] = self.activation_obj.activation(self.A[i+1])\n",
        "    self.A[self.nh+1] = np.matmul(self.H[self.nh], self.W[self.nh+1]) + self.B[self.nh+1]\n",
        "    self.H[self.nh+1] = self.softmax(self.A[self.nh+1])\n",
        "    return self.H[self.nh+1]\n",
        "\n",
        "  #Predict function, can be used on train/test sets, but we are using for calculating accuracy\n",
        "  def predict(self, X):\n",
        "    Y_pred = []\n",
        "    for x in X:\n",
        "      y_pred = self.forward_pass(x)\n",
        "      Y_pred.append(y_pred)\n",
        "    return np.array(Y_pred).squeeze()\n",
        " \n",
        "  #Loss function is being calculated as cross entropy, we could as well use MSE for simplicity, but CE will be more accurate\n",
        "  def cross_entropy(self,label,pred):\n",
        "    yl=np.multiply(pred,label)\n",
        "    yl=yl[yl!=0]\n",
        "    yl=-np.log(yl)\n",
        "    yl=np.mean(yl)\n",
        "    return yl\n",
        " \n",
        "  #The core logic of the NeuralNet, does a forward and back propogation\n",
        "  #Backpropogation takes care of updating derivaties in this function\n",
        "  #The second part of backpropogation, the Stochastic Gradient descent is done in fit function\n",
        "  def grad(self, x, y):\n",
        "    self.forward_pass(x)\n",
        "    self.dW = {}\n",
        "    self.dB = {}\n",
        "    self.dH = {}\n",
        "    self.dA = {}\n",
        "    L = self.nh + 1\n",
        "    self.dA[L] = (self.H[L] - y)\n",
        "    for k in range(L, 0, -1):\n",
        "      self.dW[k] = np.matmul(self.H[k-1].T, self.dA[k])\n",
        "      self.dB[k] = self.dA[k]\n",
        "      self.dH[k-1] = np.matmul(self.dA[k], self.W[k].T)\n",
        "      self.dA[k-1] = np.multiply(self.dH[k-1], self.activation_obj.derivative(self.H[k-1])) \n",
        "  \n",
        "  #Utility function to calculate accuracy given expected and predicted value, used for plotting the graph\n",
        "  def acc(self, y, yhat):\n",
        "        '''\n",
        "        Calculates the accuracy between the predicted valuea and the truth labels\n",
        "        '''\n",
        "        #acc = accuracy_score(y,yhat)\n",
        "        #return accuracy_score( np.array(yhat).squeeze(),self.normal_y)\n",
        "        yhat1 = np.argmax(yhat, axis=1)\n",
        "        y1 = np.argmax(y,axis=1)\n",
        "        acc = int(sum(y1 == yhat1) / len(y1) * 100)\n",
        "        return acc\n",
        "\n",
        "  #The entry point into the NeuralNet\n",
        "  def fit(self, X, Y, epochs=5000, learning_rate=0.0001):\n",
        "    for i in range(self.nh+1):\n",
        "      self.W[i+1] = np.random.randn(self.sizes[i], self.sizes[i+1])\n",
        "      self.B[i+1] = np.zeros((1, self.sizes[i+1]))\n",
        "    \n",
        "    #Capture start time, we consider the above part of initialization is common across all \n",
        "    #activation functions and would be constant for a model of NN\n",
        "    start_time = time.time()\n",
        "    for epoch in tqdm_notebook(range(epochs), total=epochs, unit=\"epoch\"):\n",
        "      dW = {}\n",
        "      dB = {}\n",
        "      for i in range(self.nh+1):\n",
        "        dW[i+1] = np.zeros((self.sizes[i], self.sizes[i+1]))\n",
        "        dB[i+1] = np.zeros((1, self.sizes[i+1]))\n",
        "      for x, y in zip(X, Y):\n",
        "        self.grad(x, y)\n",
        "        for i in range(self.nh+1):\n",
        "          dW[i+1] += self.dW[i+1]\n",
        "          dB[i+1] += self.dB[i+1]\n",
        "                  \n",
        "      m = X.shape[1]\n",
        "      '''\n",
        "           Update network parameters according to update rule from\n",
        "            Stochastic Gradient Descent.\n",
        "\n",
        "            θ = θ - η * ∇J(x, y),\n",
        "                theta θ:            a network parameter (e.g. a weight w)\n",
        "                eta η:              the learning rate\n",
        "                gradient ∇J(x, y):  the gradient of the objective function,\n",
        "                                    i.e. the change for a specific theta θ\n",
        "      '''\n",
        "      for i in range(self.nh+1):\n",
        "        self.W[i+1] -= learning_rate * (dW[i+1]/m)\n",
        "        self.B[i+1] -= learning_rate * (dB[i+1]/m)\n",
        "        \n",
        "      \n",
        "      Y_pred = self.predict(X) \n",
        "      self.loss[epoch] = self.cross_entropy(Y, Y_pred)\n",
        "      self.accuracy[epoch] = self.acc(Y, Y_pred)\n",
        "    \n",
        "    #Capture end time and compute total time taken\n",
        "    self.execution_time = round(time.time() - start_time,2)\n",
        "    self.model_avg_accuracy = np.average(list(self.accuracy.values()))\n",
        "    self.model_end_accuracy = self.accuracy[epochs-1]\n"
      ],
      "execution_count": 212,
      "outputs": []
    },
    {
      "cell_type": "markdown",
      "metadata": {
        "id": "1-7Z2ESZUDu9"
      },
      "source": [
        "#7. Get required information about the dataset"
      ]
    },
    {
      "cell_type": "code",
      "metadata": {
        "colab": {
          "base_uri": "https://localhost:8080/"
        },
        "id": "YYm3d3uyv8sk",
        "outputId": "b66daa72-931b-456b-a120-3e11ab7e9dcc"
      },
      "source": [
        "num_observations = data.shape[0]\n",
        "num_features = data.shape[1] - 1 # substract 2 because we have added an extra column for test/train split\n",
        "num_classes = len(pd.unique(data[4]))\n",
        "print (\"# of observations:\", num_observations, \", #of features:\", num_features, \", #of target classes:\", num_classes)"
      ],
      "execution_count": 213,
      "outputs": [
        {
          "output_type": "stream",
          "text": [
            "# of observations: 150 , #of features: 4 , #of target classes: 3\n"
          ],
          "name": "stdout"
        }
      ]
    },
    {
      "cell_type": "markdown",
      "metadata": {
        "id": "Pwbdu7UkvRqa"
      },
      "source": [
        "We have 150 observations and 4 features, which means the input layer in our NN will have 4 nodes and the output layer will have 3 nodes."
      ]
    },
    {
      "cell_type": "markdown",
      "metadata": {
        "id": "L7yMlabUpBf5"
      },
      "source": [
        "#8. Define the Hyperparameters as required by the assignment"
      ]
    },
    {
      "cell_type": "code",
      "metadata": {
        "id": "EmOHLwHjpH3I"
      },
      "source": [
        "hidden_layer_size = 10\n",
        "num_iterations = 5000\n",
        "learning_rate = 0.0001"
      ],
      "execution_count": 214,
      "outputs": []
    },
    {
      "cell_type": "markdown",
      "metadata": {
        "id": "FHwGyZCmnvqM"
      },
      "source": [
        "#9 Train 3 different NeuralNet using Logistic, Relu and Tanh activations"
      ]
    },
    {
      "cell_type": "code",
      "metadata": {
        "colab": {
          "base_uri": "https://localhost:8080/",
          "height": 164,
          "referenced_widgets": [
            "e0c8c0cb698f4dd597ee633bbe686978",
            "8fa633976513486cac65c70d7717019b",
            "d02b6450eb1f4977b762ad3d241af03d",
            "5997ebeccef84178828ea5757302a88c",
            "4d178363fa36473b9192ce1dd07bb37f",
            "360fecf12971452d86884c4f42261a3f",
            "d514be9a58c34acb8b4766600b47a929",
            "b2a7f70743bd41c28035ea6cafc84eca",
            "143aa3fada7b40199b1f433f7e34ef15",
            "ade5e712ee9848a7af3f42e2128a828b",
            "94d8812a56194a07a46e043bf9fe0273",
            "565e642bc7544eabaa7e5ec6107d3bea",
            "f8619ee1517747a2ababf5bdafcb9b3d",
            "1c906125964c4b04ab0b5642ed61383d",
            "689b0989230c4b28b8372e5e5a1e5395",
            "bbbadd9c27184862a2f0320082431fbd",
            "6c299906d05e480a93d796c3596d628a",
            "d7873abe274942949777d213bab198a1",
            "49e74f6b828a47e89c0ea5444304b110",
            "c77028dc670a4882a047e5860cb87e90",
            "b9eb4d21329b4500b2addfca2a7c15aa",
            "efbc428bb6de4f68945e6209dcc1ee32",
            "fde942b8e353415098051a0d99b9d88f",
            "68f9d750273740ae9b007e287ede55bc"
          ]
        },
        "id": "UQG-i5M9oDmJ",
        "outputId": "6ef54004-da8a-4bba-990e-07c0a4e03006"
      },
      "source": [
        "log_activation_obj = Logistic() #From the activation class defined in Step#5\n",
        "logistic_nn = G26NeuralNet(log_activation_obj,num_features,num_classes,[hidden_layer_size])\n",
        "logistic_nn.fit(X_train, y_OH_train,epochs=num_iterations,learning_rate=learning_rate)\n",
        "\n",
        "\n",
        "relu_activation_obj = Relu() #From the activation class defined in Step#5\n",
        "relu_nn = G26NeuralNet(relu_activation_obj,num_features,num_classes,[hidden_layer_size])\n",
        "relu_nn.fit(X_train, y_OH_train,epochs=num_iterations,learning_rate=learning_rate)\n",
        "\n",
        "tanh_activation_obj = Tanh() #From the activation class defined in Step#5\n",
        "tanh_nn = G26NeuralNet(tanh_activation_obj,num_features,num_classes,[hidden_layer_size])\n",
        "tanh_nn.fit(X_train, y_OH_train,epochs=num_iterations,learning_rate=learning_rate)\n"
      ],
      "execution_count": 215,
      "outputs": [
        {
          "output_type": "display_data",
          "data": {
            "application/vnd.jupyter.widget-view+json": {
              "model_id": "e0c8c0cb698f4dd597ee633bbe686978",
              "version_minor": 0,
              "version_major": 2
            },
            "text/plain": [
              "HBox(children=(FloatProgress(value=0.0, max=5000.0), HTML(value='')))"
            ]
          },
          "metadata": {
            "tags": []
          }
        },
        {
          "output_type": "stream",
          "text": [
            "\n"
          ],
          "name": "stdout"
        },
        {
          "output_type": "display_data",
          "data": {
            "application/vnd.jupyter.widget-view+json": {
              "model_id": "143aa3fada7b40199b1f433f7e34ef15",
              "version_minor": 0,
              "version_major": 2
            },
            "text/plain": [
              "HBox(children=(FloatProgress(value=0.0, max=5000.0), HTML(value='')))"
            ]
          },
          "metadata": {
            "tags": []
          }
        },
        {
          "output_type": "stream",
          "text": [
            "\n"
          ],
          "name": "stdout"
        },
        {
          "output_type": "display_data",
          "data": {
            "application/vnd.jupyter.widget-view+json": {
              "model_id": "6c299906d05e480a93d796c3596d628a",
              "version_minor": 0,
              "version_major": 2
            },
            "text/plain": [
              "HBox(children=(FloatProgress(value=0.0, max=5000.0), HTML(value='')))"
            ]
          },
          "metadata": {
            "tags": []
          }
        },
        {
          "output_type": "stream",
          "text": [
            "\n"
          ],
          "name": "stdout"
        }
      ]
    },
    {
      "cell_type": "markdown",
      "metadata": {
        "id": "Zz8xYN0BxLb7"
      },
      "source": [
        "#10 Plot the loss curve and training score/accuracy of the netwoks"
      ]
    },
    {
      "cell_type": "code",
      "metadata": {
        "colab": {
          "base_uri": "https://localhost:8080/",
          "height": 1000
        },
        "id": "IwzFnG_0xSHh",
        "outputId": "9880d2f6-bc01-40f5-8ea0-d097c11db1db"
      },
      "source": [
        "plt.style.use(\"ggplot\")\n",
        "plt.rcParams[\"figure.figsize\"] = (25,5)\n",
        "\n",
        "#Utility function to plot the loss curve and training accuracy over epochs,\n",
        "def plot_info( for_what,loss, accuracy):\n",
        " plt.tight_layout()\n",
        " plt.subplot(1,2,1)\n",
        " plt.plot(np.array(list(loss.values())).astype(float))\n",
        " plt.xlabel('Epochs')\n",
        " plt.ylabel('Loss')\n",
        " plt.title(for_what + ' - Loss curve')\n",
        "\n",
        " plt.subplot(1,2,2)\n",
        " plt.plot(np.array(list(accuracy.values())).astype(float))\n",
        " plt.xlabel('Epochs')\n",
        " plt.ylabel('Accuracy')\n",
        " plt.title(for_what + ' - Training score curve')\n",
        "\n",
        " plt.show()\n",
        "\n",
        "\n",
        "plot_info('Logistic', logistic_nn.loss, logistic_nn.accuracy)\n",
        "plot_info('Relu', relu_nn.loss, relu_nn.accuracy)\n",
        "plot_info('TanH', tanh_nn.loss, tanh_nn.accuracy)\n"
      ],
      "execution_count": 216,
      "outputs": [
        {
          "output_type": "display_data",
          "data": {
            "image/png": "[encoded data removed]",
            "text/plain": [
              "<Figure size 1800x360 with 2 Axes>"
            ]
          },
          "metadata": {
            "tags": []
          }
        },
        {
          "output_type": "display_data",
          "data": {
            "image/png": "[encoded data removed]",
            "text/plain": [
              "<Figure size 1800x360 with 2 Axes>"
            ]
          },
          "metadata": {
            "tags": []
          }
        },
        {
          "output_type": "display_data",
          "data": {
            "image/png": "[encoded data removed]",
            "text/plain": [
              "<Figure size 1800x360 with 2 Axes>"
            ]
          },
          "metadata": {
            "tags": []
          }
        }
      ]
    },
    {
      "cell_type": "markdown",
      "metadata": {
        "id": "5miCtxzL1ONi"
      },
      "source": [
        "#11. Plot performance metrics of various activation functions"
      ]
    },
    {
      "cell_type": "code",
      "metadata": {
        "colab": {
          "base_uri": "https://localhost:8080/",
          "height": 382
        },
        "id": "JO2PTGDX1ULV",
        "outputId": "00fd92a2-cbbf-40ce-df8c-e617c6d80934"
      },
      "source": [
        "plt.rcParams[\"figure.figsize\"] = (20,5)\n",
        "plt.tight_layout()\n",
        "\n",
        "execution_times = [logistic_nn.execution_time, relu_nn.execution_time, tanh_nn.execution_time]\n",
        "accuracy = [logistic_nn.model_end_accuracy, relu_nn.model_end_accuracy, tanh_nn.model_end_accuracy]\n",
        "end_loss = [logistic_nn.loss[num_iterations-1], relu_nn.loss[num_iterations-1], tanh_nn.loss[num_iterations-1]]\n",
        "\n",
        "index = ['Logistic', 'Relu', 'TanH']\n",
        "\n",
        "df = pd.DataFrame({'ExecutionTime-Sec': execution_times,\n",
        "                   'Accuracy': accuracy,\n",
        "                   'End_Loss': end_loss}, index=index)\n",
        "\n",
        "axis = df.plot(kind='bar',subplots=True,layout=(1,3),legend=False, title=['ExecutionTime - Seconds','Training Score/Accuracy','Loss'])"
      ],
      "execution_count": 217,
      "outputs": [
        {
          "output_type": "display_data",
          "data": {
            "text/plain": [
              "<Figure size 1440x360 with 0 Axes>"
            ]
          },
          "metadata": {
            "tags": []
          }
        },
        {
          "output_type": "display_data",
          "data": {
            "image/png": "[encoded data removed]",
            "text/plain": [
              "<Figure size 1440x360 with 3 Axes>"
            ]
          },
          "metadata": {
            "tags": []
          }
        }
      ]
    }
  ]
}